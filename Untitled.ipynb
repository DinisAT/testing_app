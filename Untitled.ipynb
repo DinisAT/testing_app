{
 "cells": [
  {
   "cell_type": "code",
   "execution_count": 10,
   "id": "85833dd4-fc40-4c8d-8af2-d6c350477a04",
   "metadata": {},
   "outputs": [],
   "source": [
    "import requests\n",
    "import json"
   ]
  },
  {
   "cell_type": "code",
   "execution_count": 35,
   "id": "66763aac-c624-4c22-9af0-cc50e9c8dc99",
   "metadata": {},
   "outputs": [],
   "source": [
    "api_key = 'Basic ZGluaXNhbWFkb3JAZ21haWwuY29t:hlRpvoJ0mSJxvD8Aa7eur'"
   ]
  },
  {
   "cell_type": "code",
   "execution_count": 36,
   "id": "c7eb60d9-70c5-4669-b488-3aa1c415e0d4",
   "metadata": {},
   "outputs": [],
   "source": [
    "url = 'https://api.d-id.com/talks'"
   ]
  },
  {
   "cell_type": "code",
   "execution_count": 39,
   "id": "278c78cc-79cb-4ed7-bd1d-5a09100e4b51",
   "metadata": {},
   "outputs": [],
   "source": [
    "source_url=\"https://clips-presenters.d-id.com/william/FPvBkeR0kv/bAIOAUOG33/image.png\"\n",
    "voice_id= \"en-US-JasonNeural\",\n",
    "style = 'Cheerful'\n",
    "input = 'You are string and feeling wonderfull'\n",
    "\n",
    "payload = {\n",
    "    'source_url': source_url,\n",
    "    'script': {\n",
    "        'type': 'text',\n",
    "        'input': input,\n",
    "        'provider': {\n",
    "            'type':'microsoft',\n",
    "            'voice_id':voice_id,\n",
    "            'voice_config': {'style':style}\n",
    "        }\n",
    "    }\n",
    "}\n",
    "\n",
    "headers = {\n",
    "    \"content-type\": \"application/json\",\n",
    "    \"accept\": \"application/json\",\n",
    "    \"authorization\": api_key}\n",
    "\n"
   ]
  },
  {
   "cell_type": "code",
   "execution_count": 40,
   "id": "1a5f2c7d-6f08-4f4b-a6b4-6ab6a16ae018",
   "metadata": {},
   "outputs": [
    {
     "data": {
      "text/plain": [
       "{'kind': 'ValidationError',\n",
       " 'description': 'validation failed',\n",
       " 'details': {'body.script': {'message': 'Could not match the union against any of the items. Issues: [{\"body.script.provider\":{\"message\":\"Could not match the union against any of the items. Issues: [{\\\\\"body.script.provider.voice_id\\\\\":{\\\\\"message\\\\\":\\\\\"invalid string value\\\\\",\\\\\"value\\\\\":[\\\\\"en-US-JasonNeural\\\\\"]}},{\\\\\"body.script.provider.type\\\\\":{\\\\\"message\\\\\":\\\\\"should be one of the following; [\\'elevenlabs\\']\\\\\",\\\\\"value\\\\\":\\\\\"microsoft\\\\\"},\\\\\"body.script.provider.voice_id\\\\\":{\\\\\"message\\\\\":\\\\\"invalid string value\\\\\",\\\\\"value\\\\\":[\\\\\"en-US-JasonNeural\\\\\"]}},{\\\\\"body.script.provider.type\\\\\":{\\\\\"message\\\\\":\\\\\"should be one of the following; [\\'amazon\\']\\\\\",\\\\\"value\\\\\":\\\\\"microsoft\\\\\"},\\\\\"body.script.provider.voice_id\\\\\":{\\\\\"message\\\\\":\\\\\"should be one of the following; [\\'Amy\\',\\'Aria\\',\\'Ayanda\\',\\'Bianca\\',\\'Brian\\',\\'Camila\\',\\'Emma\\',\\'Gabrielle\\',\\'Ivy\\',\\'Joanna\\',\\'Joey\\',\\'Justin\\',\\'Kendra\\',\\'Kevin\\',\\'Kimberly\\',\\'Lea\\',\\'Lucia\\',\\'Lupe\\',\\'Matthew\\',\\'Olivia\\',\\'Salli\\',\\'Seoyeon\\',\\'Takumi\\',\\'Vicki\\']\\\\\",\\\\\"value\\\\\":[\\\\\"en-US-JasonNeural\\\\\"]}},{\\\\\"body.script.provider.type\\\\\":{\\\\\"message\\\\\":\\\\\"should be one of the following; [\\'afflorithmics\\']\\\\\",\\\\\"value\\\\\":\\\\\"microsoft\\\\\"},\\\\\"body.script.provider.voice_id\\\\\":{\\\\\"message\\\\\":\\\\\"invalid string value\\\\\",\\\\\"value\\\\\":[\\\\\"en-US-JasonNeural\\\\\"]}}]\",\"value\":{\"type\":\"microsoft\",\"voice_id\":[\"en-US-JasonNeural\"],\"voice_config\":{\"style\":\"Cheerful\"}}}},{\"body.script.type\":{\"message\":\"should be one of the following; [\\'audio\\']\",\"value\":\"text\"},\"body.script.audio_url\":{\"message\":\"\\'audio_url\\' is required\"}}]',\n",
       "   'value': {'type': 'text',\n",
       "    'input': 'You are string and feeling wonderfull',\n",
       "    'provider': {'type': 'microsoft',\n",
       "     'voice_id': ['en-US-JasonNeural'],\n",
       "     'voice_config': {'style': 'Cheerful'}}}}}}"
      ]
     },
     "execution_count": 40,
     "metadata": {},
     "output_type": "execute_result"
    }
   ],
   "source": [
    "response = requests.post(url, json=payload, headers=headers)\n",
    "data = json.loads(response.text)\n",
    "data"
   ]
  },
  {
   "cell_type": "code",
   "execution_count": null,
   "id": "bc36a811-8fcf-4996-bfc5-99c1c2fc2bc1",
   "metadata": {},
   "outputs": [],
   "source": []
  }
 ],
 "metadata": {
  "kernelspec": {
   "display_name": "Python 3 (ipykernel)",
   "language": "python",
   "name": "python3"
  },
  "language_info": {
   "codemirror_mode": {
    "name": "ipython",
    "version": 3
   },
   "file_extension": ".py",
   "mimetype": "text/x-python",
   "name": "python",
   "nbconvert_exporter": "python",
   "pygments_lexer": "ipython3",
   "version": "3.10.6"
  }
 },
 "nbformat": 4,
 "nbformat_minor": 5
}
